{
 "cells": [
  {
   "cell_type": "markdown",
   "metadata": {},
   "source": [
    "# An Economic Model of Intraday Sleep Choice"
   ]
  },
  {
   "cell_type": "markdown",
   "metadata": {},
   "source": [
    "Consider a household that makes a time-allocation decision every hour during the day.  There are three possible states of activity.\n",
    "\n",
    "1) Working, the individual earns income which is added to savings, but does no consumption and generates no consumption utility; indeed, there may be disutility from working.  The individual's stock of sleep depreciates during this activity.  Wages earned depend on the stock of sleep at the time work occurs.\n",
    "\n",
    "2) Playing, the individual earns no income, but consumes and draws down savings.  There is positive utility from playing and the individual optimally chooses the level of goods consumption during this activity.  Utility generated depends on the stock of sleep at the time.  This stock also depreciates during play.\n",
    "\n",
    "3) Sleeping, the individual earns nothing and generates no utility.  However, the stock of sleep replenished during sleep.\n",
    "\n",
    "In addition, there is a circadian cycle which governs the effectiveness of sleep and wakefulness at different times of the day."
   ]
  },
  {
   "cell_type": "markdown",
   "metadata": {},
   "source": [
    "Denote savings at time $t$ as $B_t$ and the stock of sleep as $Z_t$.  The current activity is denoted with indicator variable, $A_t$ which take on a value of 0 if working, 1 if playing, or 2 if sleeping.  Consumption when playing is denoted $C_t$.  The circadian cycle is denoted $y_t$.\n",
    "\n",
    "This cycle is described by a sine wave with a time-varying vertical shifter, $\\psi(Z_t)$.\n",
    "$$ y_t = -\\sin([t+b]\\tfrac{\\pi}{S}) + \\psi(Z_t) $$\n",
    "where $S$ is the number of periods in a day.\n",
    "\n",
    "The household's problem is given by:\n",
    "$$ V(B_t, Z_t, y_t) = \\max_{A_t, C_t} U(Z_t, A_t, C_t, y_t) + \\beta V(B_{t+1}, Z_{t+1}; y_{t+1}) $$\n",
    "\n",
    "The accumulation of savings and sleep stock are governed by the following:\n",
    "$$ B_{t+1} = \\left\\{ \\begin{matrix} B_t + \\bar w \\phi(Z_t) & \\text{if } A_t = 0 \\\\ B_t - C_t & \\text{if } A_t = 1 \\\\ B_t & \\text{otherwise} \\end{matrix} \\right. $$\n",
    "Note that we will impose a non-negativeity constraint on $B_{t+1}$, so that $C_t \\le B_t$.\n",
    "\n",
    "$$ Z_{t+1} = \\left\\{ \\begin{matrix} Z_t(1-\\delta_W) & \\text{if } A_t = 0 \\\\ Z_t(1-\\delta_P) & \\text{if } A_t = 1 \\\\ Z_t + \\tfrac{1}{S} & \\text{otherwise} \\end{matrix} \\right. $$\n",
    "\n",
    "The utility function is:\n",
    "$$ U^C(Z_t, A_t, C_t) = \\left\\{ \\begin{matrix} \\phi(Z_t) C_t^\\gamma & \\text{if } A_t = 1 \\\\ 0 & \\text{otherwise} \\end{matrix} \\right. $$\n",
    "\n",
    "$$ U^y(Z_t, A_t, y_t) = \\left\\{ \\begin{matrix} y_t & \\text{if } A_t = 2 \\\\ -y_t & \\text{otherwise} \\end{matrix} \\right. $$\n",
    "\n",
    "$$ U(Z_t, A_t, C_t, y_t) = U^C(Z_t, A_t, C_t) + \\chi_S U^y(Z_t, A_t, y_t) $$\n",
    "note that $[2(1-W_t-P_t) - 1]$ equals one when working or playing, and minus one when sleeping.\n",
    "\n",
    "The effectivness function is:\n",
    "$$ \\phi(Z_t) = h Z_t^\\eta $$\n",
    "\n",
    "The circadian shifter function is:\n",
    "$$ \\psi(Z_t) = \\tfrac{2}{\\pi}\\tan^{-1}(fZ_t + g) $$"
   ]
  },
  {
   "cell_type": "markdown",
   "metadata": {},
   "source": [
    "## A Definitions Function"
   ]
  },
  {
   "cell_type": "markdown",
   "metadata": {},
   "source": [
    "First, let us define a function that returns $U_t$, $B_{t+1}$ and $Z_{t+1}$ given the current state, $\\{B_t, Z_t, y_t\\}$"
   ]
  },
  {
   "cell_type": "code",
   "execution_count": 3,
   "metadata": {
    "collapsed": true
   },
   "outputs": [],
   "source": [
    "def moddefs(B, Z, y, A, C, *mparams):\n",
    "    '''\n",
    "    B is the stock of savings now\n",
    "    Z is the stock of sleep capital now\n",
    "    y is the value of the circadian cycle now\n",
    "    A is an indicator for working, playing or sleeping now\n",
    "    P is a binary indicating playing now\n",
    "    C is consumption now if P=1\n",
    "    \n",
    "    UC is utility from consumption >= 0\n",
    "    Uy is utility from following the circadian cycle\n",
    "    Bp is savings next period\n",
    "    Zp is sleep stock next period\n",
    "    U is total utility\n",
    "    '''\n",
    "    # effective labor as a function of sleep stock, Phi\n",
    "    e = h*Z**eta\n",
    "    # upward shift in circadian cycle as function of sleep stock, Psi\n",
    "    d = 2*np.arctan(f*Z + g)/np.pi\n",
    "    # if working (A=0)\n",
    "    if (A == 0):\n",
    "        UC = 0.\n",
    "        Uy = y*d\n",
    "        Bp = B + e*wbar\n",
    "        Zp = Z*(1-delW)\n",
    "    # if playing (A=1)\n",
    "    elif (A == 1):\n",
    "        # consumption greater than savings is not allowed\n",
    "        if C > B:\n",
    "            UC = -1.E+99\n",
    "            Bp = 0.\n",
    "        else:\n",
    "            UC = e*C**gamma\n",
    "            Bp = B - C\n",
    "        Uy = y*d\n",
    "        Zp = Z*(1-delP)\n",
    "    else:\n",
    "        UC = 0.\n",
    "        Uy = -y*d\n",
    "        Bp = B\n",
    "        Zp = Z + 1/S\n",
    "    # total utility\n",
    "    U = UC + chiS*Uy\n",
    "    return U, Bp, Zp\n"
   ]
  },
  {
   "cell_type": "markdown",
   "metadata": {},
   "source": [
    "## The Main Program"
   ]
  },
  {
   "cell_type": "markdown",
   "metadata": {},
   "source": [
    "First, we need to import `numpy` and the plotting from `matplotlib`."
   ]
  },
  {
   "cell_type": "code",
   "execution_count": 4,
   "metadata": {
    "collapsed": true
   },
   "outputs": [],
   "source": [
    "import numpy as np\n",
    "import matplotlib.pyplot as plt"
   ]
  },
  {
   "cell_type": "markdown",
   "metadata": {},
   "source": [
    "Next, we declare the value of the model parameters and construct the circadian cycle."
   ]
  },
  {
   "cell_type": "code",
   "execution_count": 5,
   "metadata": {},
   "outputs": [],
   "source": [
    "# define parameters\n",
    "S = 24        # number of periods per day\n",
    "eta = .5      # curvature of phi(Z) functuion\n",
    "h = 1.        # scaling factor for phi(Z) function\n",
    "wbar = 1.     # constant wage\n",
    "f = .5        # scaling factor for d(Z) function\n",
    "g = .1        # additive factor for d(Z) function\n",
    "b = 4.        # phase shifter for circadian cycle\n",
    "delW = .2     # depreciation rate per period for sleep capital when working\n",
    "delP = .1     # depreciation rate per period for sleep capital when playng\n",
    "gamma = .75   # curvature of consumption utility, CES\n",
    "chiS = 5.     # utility weight on sleep timing\n",
    "beta = .9     # subjective discount factor per period\n",
    "# set up sine way for circadian cycle\n",
    "yvect = np.linspace(0., 2*np.pi, num = S+1)\n",
    "yvect = -np.sin(yvect + .5*b/np.pi)\n",
    "# save to mparams list\n",
    "mparams = (S, eta, h, wbar, f, g, b, delW, delP, gamma, chiS, beta, yvect)"
   ]
  },
  {
   "cell_type": "markdown",
   "metadata": {},
   "source": [
    "We plot the circadian cycle to see when the individual is likely to sleep and be awake."
   ]
  },
  {
   "cell_type": "code",
   "execution_count": 6,
   "metadata": {},
   "outputs": [
    {
     "data": {
      "image/png": "[encoded data removed]",
      "text/plain": [
       "<matplotlib.figure.Figure at 0x10c1967b8>"
      ]
     },
     "metadata": {},
     "output_type": "display_data"
    }
   ],
   "source": [
    "# plot circadian cycle\n",
    "plt.plot(yvect)\n",
    "plt.show()"
   ]
  },
  {
   "cell_type": "markdown",
   "metadata": {},
   "source": [
    "We then set up grids for $B$, $Z$ and $C$.  No grid is needed for $A$ since the values will correspond exaxctly to the index, $A_t \\in \\{0, 1, 2\\}$."
   ]
  },
  {
   "cell_type": "code",
   "execution_count": 7,
   "metadata": {
    "collapsed": true
   },
   "outputs": [],
   "source": [
    "# set up other grids\n",
    "nB = 11\n",
    "nZ = 11\n",
    "nC = 11\n",
    "Bvect = np.linspace(0., 5., num = nB)\n",
    "Zvect = np.linspace(0., 5., num = nZ)\n",
    "Cvect = np.linspace(0., 5., num = nC)"
   ]
  },
  {
   "cell_type": "markdown",
   "metadata": {},
   "source": [
    "Nest, we initialize the value function, $V$, the policy functions, $\\Phi_B, \\Phi_Z$ and the jump functions, $\\Lambda_A, \\Lambda_C$.\n",
    "\n",
    "We also set the maximum number of allowable iterations, and the criterion by which we determine if the value function has converged.\n",
    "\n",
    "Then we initialize the starting distance to an number greater than the convergence criterion and start the iteration counter at zero."
   ]
  },
  {
   "cell_type": "code",
   "execution_count": 8,
   "metadata": {
    "collapsed": true
   },
   "outputs": [],
   "source": [
    "# set up value function, policy functions and jump functions\n",
    "V = np.zeros((nB,nZ,S))\n",
    "PhiB = np.zeros((nB,nZ,S))\n",
    "PhiZ = np.zeros((nB,nZ,S))\n",
    "LamA = np.zeros((nB,nZ,S))\n",
    "LamC = np.zeros((nB,nZ,S))\n",
    "Vnew = np.zeros((nB,nZ,S))\n",
    "# set iteration parameters\n",
    "maxiters = 500.\n",
    "ccrit = 1.E-6\n",
    "# set starting values\n",
    "dist = 1.\n",
    "iters = 0"
   ]
  },
  {
   "cell_type": "markdown",
   "metadata": {},
   "source": [
    "It is useful in the value-function iteration to round the values of $B_{t+1}$ and $Z_{t+1}$ to the closest values in the grids we have set up.  We do this by using the simple function below.  Here `array` will be either `Bvect` or `Zvect`, and `value` will be either $B_{t+1}$ or $Z_{t+1}$."
   ]
  },
  {
   "cell_type": "code",
   "execution_count": 9,
   "metadata": {
    "collapsed": true
   },
   "outputs": [],
   "source": [
    "def nearest(array, value):\n",
    "    idx = (np.abs(array - value)).argmin()\n",
    "    return idx, array[idx]"
   ]
  },
  {
   "cell_type": "markdown",
   "metadata": {},
   "source": [
    "We use value-function iteration by searching over the values of $A_t$ and $C_t$ that maximize value - $U(Z_t, A_t, C_t, y_t) + \\beta V(B_{t+1}, Z_{t+1}; y_{t+1})$ for each possible state or permutations of $B_t$ and $Z_t$.  Note the our `moddefs` function will give us $U(Z_t, A_t, C_t, y_t)$, $B_{t+1}$ and $Z_{t+1}$.\n",
    "\n",
    "For each permutation of $B_t$ and $Z_t$ we initially set the maximum observed value to s large negative number.  We then loop over all permutations of $A_t$ and $C_t$ and find $V_t' = U_t + \\beta V_{t+1}$, $B_{t+1}$ and $Z_{t+1}$.  If the value of $V_t'$ is greater that the largest value observed so far, we replace that largest value with $V_t'$ and write the values of $B_{t+1}$, $Z_{t+1}$, $A_t$, and $C_t$ to the appropriate parts of the policy and jump arrays.\n",
    "\n",
    "One we have finished this for all values of $B_t$ and $Z_t$, we calculate the distance measure between $V$ and $V'$.  We choose the maximum absolute deviation as our measure of distance.  If this distance is less than the convergence criterion we will finish.  If not we replace $V$ with $V'$, reset $V'$ to zero and run another iteration,"
   ]
  },
  {
   "cell_type": "code",
   "execution_count": 10,
   "metadata": {},
   "outputs": [
    {
     "name": "stdout",
     "output_type": "stream",
     "text": [
      "1 11.2835496273\n",
      "2 6.23347240024\n",
      "3 4.67012449856\n",
      "4 3.86215651788\n",
      "5 2.631815644\n",
      "6 2.30428168695\n",
      "7 2.06727723043\n",
      "8 1.86054950739\n",
      "9 1.67449455665\n",
      "10 1.50704510098\n",
      "11 1.35634059088\n",
      "12 1.2207065318\n",
      "13 1.09863587862\n",
      "14 0.988772290755\n",
      "15 0.889895061679\n",
      "16 0.800905555511\n",
      "17 0.72081499996\n",
      "18 0.616868233987\n",
      "19 0.536494346462\n",
      "20 0.482844911816\n",
      "21 0.36914715094\n",
      "22 0.30940909901\n",
      "23 0.257442280044\n",
      "24 0.220964612311\n",
      "25 0.187759926024\n",
      "26 0.163098316992\n",
      "27 0.146788485293\n",
      "28 0.132109636764\n",
      "29 0.118898673087\n",
      "30 0.107008805779\n",
      "31 0.0963079252008\n",
      "32 0.0866771326807\n",
      "33 0.0780094194127\n",
      "34 0.0702084774714\n",
      "35 0.0631876297243\n",
      "36 0.0568688667518\n",
      "37 0.0511819800766\n",
      "38 0.046063782069\n",
      "39 0.0414574038621\n",
      "40 0.0373116634759\n",
      "41 0.0335804971283\n",
      "42 0.0302224474155\n",
      "43 0.0272002026739\n",
      "44 0.0244801824065\n",
      "45 0.0220321641659\n",
      "46 0.0198289477493\n",
      "47 0.0178460529744\n",
      "48 0.0160614476769\n",
      "49 0.0144553029092\n",
      "50 0.0130097726183\n",
      "51 0.0117087953565\n",
      "52 0.0105379158208\n",
      "53 0.00948412423875\n",
      "54 0.00853571181487\n",
      "55 0.00768214063338\n",
      "56 0.00691392657005\n",
      "57 0.00622253391305\n",
      "58 0.00560028052174\n",
      "59 0.00504025246957\n",
      "60 0.00453622722261\n",
      "61 0.00408260450035\n",
      "62 0.00367434405032\n",
      "63 0.00330690964529\n",
      "64 0.00297621868076\n",
      "65 0.00267859681269\n",
      "66 0.00241073713142\n",
      "67 0.00216966341828\n",
      "68 0.00195269707645\n",
      "69 0.0017574273688\n",
      "70 0.00158168463192\n",
      "71 0.00142351616873\n",
      "72 0.00128116455186\n",
      "73 0.00115304809667\n",
      "74 0.00103774328701\n",
      "75 0.000933968958307\n",
      "76 0.000840572062476\n",
      "77 0.000756514856235\n",
      "78 0.000680863370608\n",
      "79 0.000612777033552\n",
      "80 0.0005514993302\n",
      "81 0.000496349397181\n",
      "82 0.000446714457464\n",
      "83 0.000402043011718\n",
      "84 0.000361838710546\n",
      "85 0.000325654839489\n",
      "86 0.000293089355541\n",
      "87 0.000263780419989\n",
      "88 0.000237402377991\n",
      "89 0.000213662140194\n",
      "90 0.000192295926176\n",
      "91 0.000173066333559\n",
      "92 0.000155759700203\n",
      "93 0.000140183730181\n",
      "94 0.000126165357159\n",
      "95 0.000113548821446\n",
      "96 0.000102193939306\n",
      "97 9.19745453771e-05\n",
      "98 8.27770908352e-05\n",
      "99 7.44993817499e-05\n",
      "100 6.70494435795e-05\n",
      "101 6.0344499218e-05\n",
      "102 5.43100492969e-05\n",
      "103 4.88790443676e-05\n",
      "104 4.39911399326e-05\n",
      "105 3.95920259386e-05\n",
      "106 3.56328233444e-05\n",
      "107 3.20695410103e-05\n",
      "108 2.88625869125e-05\n",
      "109 2.59763282209e-05\n",
      "110 2.33786953991e-05\n",
      "111 2.10408258603e-05\n",
      "112 1.89367432739e-05\n",
      "113 1.70430689472e-05\n",
      "114 1.53387620507e-05\n",
      "115 1.3804885846e-05\n",
      "116 1.24243972621e-05\n",
      "117 1.11819575359e-05\n",
      "118 1.00637617848e-05\n",
      "119 9.05738560419e-06\n",
      "120 8.15164704449e-06\n",
      "121 7.33648234075e-06\n",
      "122 6.60283411236e-06\n",
      "123 5.94255070041e-06\n",
      "124 5.34829563037e-06\n",
      "125 4.81346607017e-06\n",
      "126 4.33211946316e-06\n",
      "127 3.89890751862e-06\n",
      "128 3.50901677137e-06\n",
      "129 3.15811509211e-06\n",
      "130 2.84230358361e-06\n",
      "131 2.55807322702e-06\n",
      "132 2.30226590503e-06\n",
      "133 2.07203931524e-06\n",
      "134 1.864835383e-06\n",
      "135 1.67835184683e-06\n",
      "136 1.51051666464e-06\n",
      "137 1.35946499924e-06\n",
      "138 1.22351849541e-06\n",
      "139 1.10116664587e-06\n",
      "140 9.91049983412e-07\n"
     ]
    }
   ],
   "source": [
    "# find value function, policy functions and jump functions\n",
    "while (dist > ccrit) and (iters < maxiters):\n",
    "    iters = iters + 1\n",
    "    for iy in range(0, S):\n",
    "        for iB in range(0, nB):\n",
    "            for iZ in range(0, nZ):\n",
    "                maxval = -1.E+98\n",
    "                for iA in range(0, 3):\n",
    "                    for iC in range(0, nC):\n",
    "                        # find utility, next period's savings and sleep stock\n",
    "                        U, Bp, Zp = moddefs(Bvect[iB], Zvect[iZ], yvect[iy], \\\n",
    "                            iA, Cvect[iC], *mparams)\n",
    "                        # find closest index for Bp and Zp\n",
    "                        iBp, temp = nearest(Bvect, Bp)\n",
    "                        iZp, temp = nearest(Zvect, Zp)\n",
    "                        # next period's value for the circadian cycle\n",
    "                        if iy == S-1:\n",
    "                            iyp = 0\n",
    "                        else:\n",
    "                            iyp = iy + 1\n",
    "                        # find new value\n",
    "                        val = U + beta*V[iBp, iZp, iyp]\n",
    "                        # if this is greater than previous max, update\n",
    "                        if val > maxval:\n",
    "                            maxval = val\n",
    "                            Vnew[iB, iZ, iy] = val\n",
    "                            LamA[iB, iZ, iy] = iA\n",
    "                            LamC[iB, iZ, iy] = Cvect[iC]\n",
    "                            PhiB[iB, iZ, iy] = Bvect[iBp]\n",
    "                            PhiZ[iB, iZ, iy] = Zvect[iZp]\n",
    "    # distance measure is maximum absolute deviation\n",
    "    dist = np.max(np.abs(V - Vnew))\n",
    "    # replce old value function\n",
    "    V = 1.*Vnew\n",
    "    Vnew = 0.*Vnew\n",
    "    # display progress\n",
    "    print(iters, dist )            "
   ]
  },
  {
   "cell_type": "markdown",
   "metadata": {},
   "source": [
    "To simulate, we choose a number of days for the simulation and set up arrays for our variables over this number of periods.\n",
    "\n",
    "We set starting values for $B_1$ and $Z_1$ and choose a value of $y_1$ corresponding to midnight.\n",
    "\n",
    "Given values $B_t$ and $Z_t$ we can use the policy and jump functions to generate values for $B_{t+1}$, $Z_{t+1}$, $A_t$ and $C_t$.  We can also use our grid on $y_t$ to find $y_{t+1}$.  We do this for all values of $t$."
   ]
  },
  {
   "cell_type": "code",
   "execution_count": 11,
   "metadata": {
    "collapsed": true
   },
   "outputs": [],
   "source": [
    "# Simulate\n",
    "T = 3*S    # number of periods to simulate\n",
    "# initialize time series\n",
    "Bhist = np.zeros(T)\n",
    "Zhist = np.zeros(T)\n",
    "yhist = np.zeros(T)\n",
    "Ahist = np.zeros(T)\n",
    "Chist = np.zeros(T)\n",
    "# set starting values\n",
    "Bhist[0] = 1.0\n",
    "Zhist[0] = 1.0\n",
    "iy = 0\n",
    "# iteratively simulate\n",
    "for t in range(0, T-1):\n",
    "    # find closest index for B and Z\n",
    "    iB, temp = nearest(Bvect, Bhist[t])\n",
    "    iZ, temp = nearest(Zvect, Zhist[t])\n",
    "    # find values for A and C\n",
    "    Ahist[t] = LamA[iB, iZ, iy]\n",
    "    Chist[t] = LamC[iB, iZ, iy]\n",
    "    # update values of B, Z and y\n",
    "    Bhist[t+1] = PhiB[iB, iZ, iy]\n",
    "    Zhist[t+1] = PhiZ[iB, iZ, iy]\n",
    "    if iy == S-1:\n",
    "        iy = 0\n",
    "    else:\n",
    "        iy = iy + 1    "
   ]
  },
  {
   "cell_type": "markdown",
   "metadata": {},
   "source": [
    "Finally, when we have generated the data, we can plot time series of interest.  Below we put savings and sleep stock on one graph, and the indicator variable for work, play or sleep on another."
   ]
  },
  {
   "cell_type": "code",
   "execution_count": 12,
   "metadata": {},
   "outputs": [
    {
     "data": {
      "image/png": "[encoded data removed]",
      "text/plain": [
       "<matplotlib.figure.Figure at 0x114786ef0>"
      ]
     },
     "metadata": {},
     "output_type": "display_data"
    },
    {
     "data": {
      "image/png": "[encoded data removed]",
      "text/plain": [
       "<matplotlib.figure.Figure at 0x11472d828>"
      ]
     },
     "metadata": {},
     "output_type": "display_data"
    }
   ],
   "source": [
    "# plot data\n",
    "t = range(0, T-1)\n",
    "# stocks of sleep and savings\n",
    "plt.plot(t, Zhist[0:T-1], label='Z')\n",
    "plt.plot(t, Bhist[0:T-1], label='B')\n",
    "plt.xlabel('time')\n",
    "plt.show()\n",
    "# chosen activity\n",
    "plt.plot(t, Ahist[0:T-1], label='A')\n",
    "plt.xlabel('time')\n",
    "plt.show()"
   ]
  }
 ],
 "metadata": {
  "kernelspec": {
   "display_name": "Python 3",
   "language": "python",
   "name": "python3"
  },
  "language_info": {
   "codemirror_mode": {
    "name": "ipython",
    "version": 3
   },
   "file_extension": ".py",
   "mimetype": "text/x-python",
   "name": "python",
   "nbconvert_exporter": "python",
   "pygments_lexer": "ipython3",
   "version": "3.6.2"
  }
 },
 "nbformat": 4,
 "nbformat_minor": 2
}
