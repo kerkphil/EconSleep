{
 "cells": [
  {
   "cell_type": "markdown",
   "metadata": {},
   "source": [
    "# An Economic Model of Intraday Sleep Choice"
   ]
  },
  {
   "cell_type": "markdown",
   "metadata": {},
   "source": [
    "Consider a household that makes a time-allocation decision every hour during the day.  There are three possible states of activity.\n",
    "\n",
    "1) Working, the individual earns income which is added to savings, but does no consumption and generates no consumption utility; indeed, there may be disutility from working.  The individual's stock of sleep depreciates during this activity.  Wages earned depend on the stock of sleep at the time work occurs.\n",
    "\n",
    "2) Playing, the individual earns no income, but consumes and draws down savings.  There is positive utility from playing and the individual optimally chooses the level of goods consumption during this activity.  Utility generated depends on the stock of sleep at the time.  This stock also depreciates during play.\n",
    "\n",
    "3) Sleeping, the individual earns nothing and generates no utility.  However, the stock of sleep replenished during sleep.\n",
    "\n",
    "In addition, there is a circadian cycle which governs the effectiveness of sleep and wakefulness at different times of the day."
   ]
  },
  {
   "cell_type": "markdown",
   "metadata": {},
   "source": [
    "Denote savings at time $t$ as $B_t$ and the stock of sleep as $Z_t$.  The current activity is denoted with indicator variable, $A_t$ which take on a value of 0 if working, 1 if playing, or 2 if sleeping.  Consumption when playing is denoted $C_t$.  The circadian cycle is denoted $y_t$.\n",
    "\n",
    "This cycle is described by a sine wave with a time-varying vertical shifter, $\\psi(Z_t)$.\n",
    "$$ y_t = -\\sin([t+b]\\tfrac{\\pi}{S}) + \\psi(Z_t) $$\n",
    "where $S$ is the number of periods in a day.\n",
    "\n",
    "The household's problem is given by:\n",
    "$$ V(B_t, Z_t, y_t) = \\max_{A_t, C_t} U(Z_t, A_t, C_t, y_t) + \\beta V(B_{t+1}, Z_{t+1}; y_{t+1}) $$\n",
    "\n",
    "The accumulation of savings and sleep stock are governed by the following:\n",
    "$$ B_{t+1} = \\left\\{ \\begin{matrix} B_t + \\bar w \\phi(Z_t) & \\text{if } A_t = 0 \\\\ B_t - C_t & \\text{if } A_t = 1 \\\\ B_t & \\text{otherwise} \\end{matrix} \\right. $$\n",
    "Note that we will impose a non-negativeity constraint on $B_{t+1}$, so that $C_t \\le B_t$.\n",
    "\n",
    "$$ Z_{t+1} = \\left\\{ \\begin{matrix} Z_t(1-\\delta_W) & \\text{if } A_t = 0 \\\\ Z_t(1-\\delta_P) & \\text{if } A_t = 1 \\\\ Z_t + \\tfrac{1}{S} & \\text{otherwise} \\end{matrix} \\right. $$\n",
    "\n",
    "The utility function is:\n",
    "$$ U^C(Z_t, A_t, C_t) = \\left\\{ \\begin{matrix} \\phi(Z_t) C_t^\\gamma & \\text{if } A_t = 1 \\\\ 0 & \\text{otherwise} \\end{matrix} \\right. $$\n",
    "\n",
    "$$ U^y(Z_t, A_t, y_t) = \\left\\{ \\begin{matrix} y_t & \\text{if } A_t = 2 \\\\ -y_t & \\text{otherwise} \\end{matrix} \\right. $$\n",
    "\n",
    "$$ U(Z_t, A_t, C_t, y_t) = U^C(Z_t, A_t, C_t) + \\chi_S U^y(Z_t, A_t, y_t) $$\n",
    "note that $[2(1-W_t-P_t) - 1]$ equals one when working or playing, and minus one when sleeping.\n",
    "\n",
    "The effectivness function is:\n",
    "$$ \\phi(Z_t) = h Z_t^\\eta $$\n",
    "\n",
    "The circadian shifter function is:\n",
    "$$ \\psi(Z_t) = \\tfrac{1}{\\pi}\\tan^{-1}(fZ_t) + g $$"
   ]
  },
  {
   "cell_type": "markdown",
   "metadata": {},
   "source": [
    "## A Definitions Function"
   ]
  },
  {
   "cell_type": "markdown",
   "metadata": {},
   "source": [
    "First, let us define a function that returns $U_t$, $B_{t+1}$ and $Z_{t+1}$ given the current state, $\\{B_t, Z_t, y_t\\}$"
   ]
  },
  {
   "cell_type": "code",
   "execution_count": null,
   "metadata": {
    "collapsed": true
   },
   "outputs": [],
   "source": [
    "def moddefs(B, Z, y, A, C, *mparams):\n",
    "    '''\n",
    "    B is the stock of savings now\n",
    "    Z is the stock of sleep capital now\n",
    "    y is the value of the circadian cycle now\n",
    "    A is an indicator for working, playing or sleeping now\n",
    "    P is a binary indicating playing now\n",
    "    C is consumption now if P=1\n",
    "    \n",
    "    UC is utility from consumption >= 0\n",
    "    Uy is utility from following the circadian cycle\n",
    "    Bp is savings next period\n",
    "    Zp is sleep stock next period\n",
    "    U is total utility\n",
    "    '''\n",
    "    # effective labor as a function of sleep stock, Phi\n",
    "    e = h*Z**eta\n",
    "    # upward shift in circadian cycle as function of sleep stock, Psi\n",
    "    d = np.arctan(f*Z)/np.pi + g\n",
    "    # if working (A=0)\n",
    "    if (A == 0):\n",
    "        UC = 0.\n",
    "        Uy = y*d\n",
    "        Bp = B + e*wbar\n",
    "        Zp = Z*(1-delW)\n",
    "    # if playing (A=1)\n",
    "    elif (A == 1):\n",
    "        # consumption greater than savings is not allowed\n",
    "        if C > B:\n",
    "            UC = -1.E+99\n",
    "            Bp = 0.\n",
    "        else:\n",
    "            UC = e*C**gamma\n",
    "            Bp = B - C\n",
    "        Uy = y*d\n",
    "        Zp = Z*(1-delP)\n",
    "    else:\n",
    "        UC = 0.\n",
    "        Uy = -y*d\n",
    "        Bp = B\n",
    "        Zp = Z + 1/S\n",
    "    # total utility\n",
    "    U = UC + chiS*Uy\n",
    "    return U, Bp, Zp\n"
   ]
  },
  {
   "cell_type": "markdown",
   "metadata": {},
   "source": [
    "## The Main Program"
   ]
  },
  {
   "cell_type": "markdown",
   "metadata": {},
   "source": [
    "First, we need to import `numpy` and the plotting from `matplotlib`."
   ]
  },
  {
   "cell_type": "code",
   "execution_count": null,
   "metadata": {
    "collapsed": true
   },
   "outputs": [],
   "source": [
    "import numpy as np\n",
    "import matplotlib.pyplot as plt"
   ]
  },
  {
   "cell_type": "markdown",
   "metadata": {},
   "source": [
    "Next, we declare the value of the model parameters and construct the circadian cycle."
   ]
  },
  {
   "cell_type": "code",
   "execution_count": null,
   "metadata": {
    "collapsed": false
   },
   "outputs": [],
   "source": [
    "# define parameters\n",
    "S = 24        # number of periods per day\n",
    "eta = .5      # curvature of phi(Z) functuion\n",
    "h = 1.        # scaling factor for phi(Z) function\n",
    "wbar = 1.     # constant wage\n",
    "f = .5        # scaling factor for d(Z) function\n",
    "g = .1        # additive factor for d(Z) function\n",
    "b = 4.        # phase shifter for circadian cycle\n",
    "delW = .2     # depreciation rate per period for sleep capital when working\n",
    "delP = .1     # depreciation rate per period for sleep capital when playng\n",
    "gamma = .75   # curvature of consumption utility, CES\n",
    "chiS = 5.     # utility weight on sleep timing\n",
    "beta = .9     # subjective discount factor per period\n",
    "# set up sine way for circadian cycle\n",
    "yvect = np.linspace(0., 2*np.pi, num = S+1)\n",
    "yvect = -np.sin(yvect + .5*b/np.pi)\n",
    "# save to mparams list\n",
    "mparams = (S, eta, h, wbar, f, g, b, delW, delP, gamma, chiS, beta, yvect)"
   ]
  },
  {
   "cell_type": "markdown",
   "metadata": {},
   "source": [
    "We plot the circadian cycle to see when the individual is likely to sleep and be awake."
   ]
  },
  {
   "cell_type": "code",
   "execution_count": null,
   "metadata": {
    "collapsed": false
   },
   "outputs": [],
   "source": [
    "# plot circadian cycle\n",
    "plt.plot(yvect)\n",
    "plt.show()"
   ]
  },
  {
   "cell_type": "markdown",
   "metadata": {},
   "source": [
    "We then set up grids for $B$, $Z$ and $C$.  No grid is needed for $A$ since the values will correspond exaxctly to the index, $A_t \\in \\{0, 1, 2\\}$."
   ]
  },
  {
   "cell_type": "code",
   "execution_count": null,
   "metadata": {
    "collapsed": true
   },
   "outputs": [],
   "source": [
    "# set up other grids\n",
    "nB = 11\n",
    "nZ = 11\n",
    "nC = 11\n",
    "Bvect = np.linspace(0., 5., num = nB)\n",
    "Zvect = np.linspace(0., 5., num = nZ)\n",
    "Cvect = np.linspace(0., 5., num = nC)"
   ]
  },
  {
   "cell_type": "markdown",
   "metadata": {},
   "source": [
    "Nest, we initialize the value function, $V$, the policy functions, $\\Phi_B, \\Phi_Z$ and the jump functions, $\\Lambda_A, \\Lambda_C$.\n",
    "\n",
    "We also set the maximum number of allowable iterations, and the criterion by which we determine if the value function has converged.\n",
    "\n",
    "Then we initialize the starting distance to an number greater than the convergence criterion and start the iteration counter at zero."
   ]
  },
  {
   "cell_type": "code",
   "execution_count": null,
   "metadata": {
    "collapsed": true
   },
   "outputs": [],
   "source": [
    "# set up value function, policy functions and jump functions\n",
    "V = np.zeros((nB,nZ,S))\n",
    "PhiB = np.zeros((nB,nZ,S))\n",
    "PhiZ = np.zeros((nB,nZ,S))\n",
    "LamA = np.zeros((nB,nZ,S))\n",
    "LamC = np.zeros((nB,nZ,S))\n",
    "Vnew = np.zeros((nB,nZ,S))\n",
    "# set iteration parameters\n",
    "maxiters = 500.\n",
    "ccrit = 1.E-6\n",
    "# set starting values\n",
    "dist = 1.\n",
    "iters = 0"
   ]
  },
  {
   "cell_type": "markdown",
   "metadata": {},
   "source": [
    "It is useful in the value-function iteration to round the values of $B_{t+1}$ and $Z_{t+1}$ to the closest values in the grids we have set up.  We do this by using the simple function below.  Here `array` will be either `Bvect` or `Zvect`, and `value` will be either $B_{t+1}$ or $Z_{t+1}$."
   ]
  },
  {
   "cell_type": "code",
   "execution_count": null,
   "metadata": {
    "collapsed": true
   },
   "outputs": [],
   "source": [
    "def nearest(array, value):\n",
    "    idx = (np.abs(array - value)).argmin()\n",
    "    return idx, array[idx]"
   ]
  },
  {
   "cell_type": "markdown",
   "metadata": {},
   "source": [
    "We use value-function iteration by searching over the values of $A_t$ and $C_t$ that maximize value - $U(Z_t, A_t, C_t, y_t) + \\beta V(B_{t+1}, Z_{t+1}; y_{t+1})$ for each possible state or permutations of $B_t$ and $Z_t$.  Note the our `moddefs` function will give us $U(Z_t, A_t, C_t, y_t)$, $B_{t+1}$ and $Z_{t+1}$.\n",
    "\n",
    "For each permutation of $B_t$ and $Z_t$ we initially set the maximum observed value to s large negative number.  We then loop over all permutations of $A_t$ and $C_t$ and find $V_t^' = U_t + \\beta V_{t+1}$, $B_{t+1}$ and $Z_{t+1}.  If the value of $V_t^'$ is greater that the largest value observed so far, we replace that largest value with $V_t^'$ and write the values of $B_{t+1}$, $Z_{t+1}$, $A_t$, and $C_t$ to the appropriate parts of the policy and jump arrays.\n",
    "\n",
    "One we have finished this for all values of $B_t$ and $Z_t$, we calculate the distance measure between $V$ and $V'$.  We choose the maximum absolute deviation as our measure of distance.  If this distance is less than the convergence criterion we will finish.  If not we replace $V$ with $V'$, reset $V'$ to zero and run another iteration,"
   ]
  },
  {
   "cell_type": "code",
   "execution_count": null,
   "metadata": {
    "collapsed": false
   },
   "outputs": [],
   "source": [
    "# find value function, policy functions and jump functions\n",
    "while (dist > ccrit) and (iters < maxiters):\n",
    "    iters = iters + 1\n",
    "    for iy in range(0, S):\n",
    "        for iB in range(0, nB):\n",
    "            for iZ in range(0, nZ):\n",
    "                maxval = -1.E+98\n",
    "                for iA in range(0, 3):\n",
    "                    for iC in range(0, nC):\n",
    "                        # find utility, next period's savings and sleep stock\n",
    "                        U, Bp, Zp = moddefs(Bvect[iB], Zvect[iZ], yvect[iy], \\\n",
    "                            iA, Cvect[iC], *mparams)\n",
    "                        # find closest index for Bp and Zp\n",
    "                        iBp, temp = nearest(Bvect, Bp)\n",
    "                        iZp, temp = nearest(Zvect, Zp)\n",
    "                        # next period's value for the circadian cycle\n",
    "                        if iy == S-1:\n",
    "                            iyp = 0\n",
    "                        else:\n",
    "                            iyp = iy + 1\n",
    "                        # find new value\n",
    "                        val = U + beta*V[iBp, iZp, iyp]\n",
    "                        # if this is greater than previous max, update\n",
    "                        if val > maxval:\n",
    "                            maxval = val\n",
    "                            Vnew[iB, iZ, iy] = val\n",
    "                            LamA[iB, iZ, iy] = iA\n",
    "                            LamC[iB, iZ, iy] = Cvect[iC]\n",
    "                            PhiB[iB, iZ, iy] = Bvect[iBp]\n",
    "                            PhiZ[iB, iZ, iy] = Zvect[iZp]\n",
    "    # distance measure is maximum absolute deviation\n",
    "    dist = np.max(np.abs(V - Vnew))\n",
    "    # replce old value function\n",
    "    V = 1.*Vnew\n",
    "    Vnew = 0.*Vnew\n",
    "    # display progress\n",
    "    print iters, dist             "
   ]
  },
  {
   "cell_type": "markdown",
   "metadata": {},
   "source": [
    "To simulate, we choose a number of days for the simulation and set up arrays for our variables over this number of periods.\n",
    "\n",
    "We set starting values for $B_1$ and $Z_1$ and choose a value of $y_1$ corresponding to midnight.\n",
    "\n",
    "Given values $B_t$ and $Z_t$ we can use the policy and jump functions to generate values for $B_{t+1}$, $Z_{t+1}$, $A_t$ and $C_t$.  We can also use our grid on $y_t$ to find $y_{t+1}$.  We do this for all values of $t$."
   ]
  },
  {
   "cell_type": "code",
   "execution_count": null,
   "metadata": {
    "collapsed": true
   },
   "outputs": [],
   "source": [
    "# Simulate\n",
    "T = 2*S    # number of periods to simulate\n",
    "# initialize time series\n",
    "Bhist = np.zeros(T)\n",
    "Zhist = np.zeros(T)\n",
    "yhist = np.zeros(T)\n",
    "Ahist = np.zeros(T)\n",
    "Chist = np.zeros(T)\n",
    "# set starting values\n",
    "Bhist[0] = 1.0\n",
    "Zhist[0] = 1.0\n",
    "iy = 0\n",
    "# iteratively simulate\n",
    "for t in range(0, T-1):\n",
    "    # find closest index for B and Z\n",
    "    iB, temp = nearest(Bvect, Bhist[t])\n",
    "    iZ, temp = nearest(Zvect, Zhist[t])\n",
    "    # find values for A and C\n",
    "    Ahist[t] = LamA[iB, iZ, iy]\n",
    "    Chist[t] = LamC[iB, iZ, iy]\n",
    "    # update values of B, Z and y\n",
    "    Bhist[t+1] = PhiB[iB, iZ, iy]\n",
    "    Zhist[t+1] = PhiZ[iB, iZ, iy]\n",
    "    if iy == S-1:\n",
    "        iy = 0\n",
    "    else:\n",
    "        iy = iy + 1    "
   ]
  },
  {
   "cell_type": "markdown",
   "metadata": {},
   "source": [
    "Finally, when we have generated the data, we can plot time series of interst.  Below we put savings and sleep stock on one graph, and the indicator variable for work, play or sleep on another."
   ]
  },
  {
   "cell_type": "code",
   "execution_count": null,
   "metadata": {
    "collapsed": false
   },
   "outputs": [],
   "source": [
    "# plot data\n",
    "t = range(0, T-1)\n",
    "# stocks of sleep and savings\n",
    "plt.plot(t, Zhist[0:T-1], label='Z')\n",
    "plt.plot(t, Bhist[0:T-1], label='B')\n",
    "plt.xlabel('time')\n",
    "plt.show()\n",
    "# chosen activity\n",
    "plt.plot(t, Ahist[0:T-1], label='A')\n",
    "plt.xlabel('time')\n",
    "plt.show()"
   ]
  }
 ],
 "metadata": {
  "kernelspec": {
   "display_name": "Python 2",
   "language": "python",
   "name": "python2"
  },
  "language_info": {
   "codemirror_mode": {
    "name": "ipython",
    "version": 2
   },
   "file_extension": ".py",
   "mimetype": "text/x-python",
   "name": "python",
   "nbconvert_exporter": "python",
   "pygments_lexer": "ipython2",
   "version": "2.7.13"
  }
 },
 "nbformat": 4,
 "nbformat_minor": 2
}
